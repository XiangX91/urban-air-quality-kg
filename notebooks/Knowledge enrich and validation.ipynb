{
 "cells": [
  {
   "cell_type": "markdown",
   "id": "94c11236-d0c0-41e9-b82f-7b543376eba4",
   "metadata": {},
   "source": [
    "# 🌍 Urban Air Quality Knowledge Graph Workflow\n",
    "\n",
    "This notebook clearly demonstrates the entire workflow of:\n",
    "\n",
    "- **Validating** structured urban air quality JSON data.\n",
    "- **Merging** new knowledge into an existing JSON dataset.\n",
    "- **Importing** validated and merged data into a local Neo4j knowledge graph."
   ]
  },
  {
   "cell_type": "markdown",
   "id": "e4f202e8-2531-4d59-a878-e31259ee22f4",
   "metadata": {},
   "source": [
    "## 🔧 Environment Setup\n",
    "\n",
    "Before running the notebook, explicitly install all required Python packages:\n",
    "\n",
    "```bash\n",
    "!pip install -r ../requirements.txt"
   ]
  },
  {
   "cell_type": "code",
   "execution_count": 3,
   "id": "c1d65f92-f4ee-4443-8bb7-a704f9303298",
   "metadata": {},
   "outputs": [],
   "source": [
    "import sys\n",
    "from pathlib import Path\n",
    "\n",
    "# Add parent directory explicitly for importing local modules\n",
    "sys.path.append(str(Path.cwd().parent))\n",
    "\n",
    "# Explicitly import custom modules\n",
    "from src.Json_validator import AQ_Json_validator\n",
    "from src.merge_knowledge import merge_knowledge\n",
    "from src.neo4j_import import import_air_quality_json_to_neo4j"
   ]
  },
  {
   "cell_type": "markdown",
   "id": "6b6da1d6-c5ae-45c1-9e21-51380be6006c",
   "metadata": {},
   "source": [
    "## ✅ Step 1: Validate JSON Files\n",
    "\n",
    "First, explicitly validate your JSON files to ensure entities referenced in relations match those defined in categories."
   ]
  },
  {
   "cell_type": "code",
   "execution_count": 5,
   "id": "b2028e42-52ca-4ae0-a9c5-442f5325fe96",
   "metadata": {},
   "outputs": [
    {
     "name": "stdout",
     "output_type": "stream",
     "text": [
      "🔍 Validating base JSON file:\n",
      "✅ JSON validation passed. All entities explicitly match correctly.\n"
     ]
    }
   ],
   "source": [
    "# Explicit paths to JSON files\n",
    "validated_json_path = Path(\"../data/baseline KG/Validated_air_quality_knowledge.json\")\n",
    "\n",
    "print(\"🔍 Validating base JSON file:\")\n",
    "AQ_Json_validator(validated_json_path)"
   ]
  },
  {
   "cell_type": "markdown",
   "id": "c3cee52c-b19a-40d6-861d-df9b3625a4a8",
   "metadata": {},
   "source": [
    "## 🔗 Step 2: Merge Knowledge\n",
    "\n",
    "Merge the new knowledge extracted explicitly into the validated existing knowledge."
   ]
  },
  {
   "cell_type": "code",
   "execution_count": 7,
   "id": "12bd1e50-f237-40cf-a008-16b6f42ad339",
   "metadata": {},
   "outputs": [
    {
     "name": "stdout",
     "output_type": "stream",
     "text": [
      "✅ JSON files merged successfully into: ../data/output/merged_air_quality_knowledge.json\n"
     ]
    }
   ],
   "source": [
    "# Define explicit output file path\n",
    "new_extracted_json_path = Path(\"../data/output/extracted_knowledge.json\")\n",
    "merged_json_output_path = Path(\"../data/output/merged_air_quality_knowledge.json\")\n",
    "\n",
    "# Run explicit merging function\n",
    "merge_knowledge(\n",
    "    base_filepath=validated_json_path,\n",
    "    new_filepath=new_extracted_json_path,\n",
    "    output_filepath=merged_json_output_path\n",
    ")"
   ]
  },
  {
   "cell_type": "markdown",
   "id": "f47c9791-b56e-449c-b10c-cb3b330a775b",
   "metadata": {},
   "source": [
    "## 🧪 Step 3 (Optional): Validate Merged JSON\n",
    "\n",
    "Explicitly re-validate the merged JSON to ensure consistency."
   ]
  },
  {
   "cell_type": "code",
   "execution_count": 9,
   "id": "1d3bfa73-5963-48a2-bbfb-3db75e692781",
   "metadata": {},
   "outputs": [
    {
     "name": "stdout",
     "output_type": "stream",
     "text": [
      "🔍 Validating merged JSON file:\n",
      "🚨 JSON validation errors found:\n",
      "- Missing mitigation measure entity: 'Cars and vans (petrol and diesel)' in source-mitigation relation.\n"
     ]
    }
   ],
   "source": [
    "print(\"🔍 Validating merged JSON file:\")\n",
    "AQ_Json_validator(merged_json_output_path)"
   ]
  },
  {
   "cell_type": "code",
   "execution_count": 11,
   "id": "17267d9b-f1ea-4818-86df-576cd9944a43",
   "metadata": {},
   "outputs": [
    {
     "name": "stdout",
     "output_type": "stream",
     "text": [
      "✅ Explicitly added missing mitigation measure: 'Cars and vans (petrol and diesel)' to category 'TechnologicalMeasure'\n",
      "🔍 Re-validating merged JSON file explicitly after correction:\n",
      "✅ JSON validation passed. All entities explicitly match correctly.\n"
     ]
    }
   ],
   "source": [
    "import json\n",
    "\n",
    "# Load the merged JSON explicitly\n",
    "with open(merged_json_output_path, \"r\", encoding=\"utf-8\") as file:\n",
    "    merged_data = json.load(file)\n",
    "\n",
    "# Explicitly add missing mitigation measure entity\n",
    "missing_measure = 'Cars and vans (petrol and diesel)'\n",
    "measure_category = 'TechnologicalMeasure'  # explicitly define appropriate category\n",
    "\n",
    "# Check if the measure category exists explicitly, if not, initialize explicitly\n",
    "if measure_category not in merged_data['mitigation_measures']:\n",
    "    merged_data['mitigation_measures'][measure_category] = []\n",
    "\n",
    "# Explicitly add missing entity if not already present\n",
    "if missing_measure not in merged_data['mitigation_measures'][measure_category]:\n",
    "    merged_data['mitigation_measures'][measure_category].append(missing_measure)\n",
    "    print(f\"✅ Explicitly added missing mitigation measure: '{missing_measure}' to category '{measure_category}'\")\n",
    "else:\n",
    "    print(f\"ℹ️ '{missing_measure}' already explicitly exists in the category '{measure_category}'.\")\n",
    "\n",
    "# Explicitly save corrected JSON back to file\n",
    "with open(merged_json_output_path, \"w\", encoding=\"utf-8\") as file:\n",
    "    json.dump(merged_data, file, indent=2)\n",
    "\n",
    "print(\"🔍 Re-validating merged JSON file explicitly after correction:\")\n",
    "AQ_Json_validator(merged_json_output_path)"
   ]
  },
  {
   "cell_type": "markdown",
   "id": "66563e11-d664-4cfa-8169-550194bc2ceb",
   "metadata": {},
   "source": [
    "## 🗄️ Step 4: Import Data into Neo4j\n",
    "\n",
    "Explicitly import the validated and merged JSON data into your local Neo4j knowledge graph.\n",
    "\n",
    "### 🚩 Neo4j Local Setup (Explicitly required):\n",
    "\n",
    "- Ensure Neo4j is explicitly running at: `bolt://localhost:7687`.\n",
    "- Explicitly confirm Neo4j credentials (username/password)."
   ]
  },
  {
   "cell_type": "code",
   "execution_count": null,
   "id": "c0946a27-8bfc-45d5-a3a0-7c15fbbecb09",
   "metadata": {},
   "outputs": [],
   "source": [
    "# Explicit Neo4j connection details (modify explicitly)\n",
    "neo4j_uri = \"bolt://localhost:7687\"\n",
    "neo4j_user = \"neo4j\"\n",
    "neo4j_password = \"66666666\" #<-------Replace your password here!\n",
    "\n",
    "# Explicitly import merged JSON data into Neo4j\n",
    "import_air_quality_json_to_neo4j(\n",
    "    json_filepath=merged_json_output_path,\n",
    "    uri=neo4j_uri,\n",
    "    username=neo4j_user,\n",
    "    password=neo4j_password\n",
    ")\n"
   ]
  }
 ],
 "metadata": {
  "kernelspec": {
   "display_name": "Python (.venv1)",
   "language": "python",
   "name": ".venv1"
  },
  "language_info": {
   "codemirror_mode": {
    "name": "ipython",
    "version": 3
   },
   "file_extension": ".py",
   "mimetype": "text/x-python",
   "name": "python",
   "nbconvert_exporter": "python",
   "pygments_lexer": "ipython3",
   "version": "3.9.6"
  }
 },
 "nbformat": 4,
 "nbformat_minor": 5
}
