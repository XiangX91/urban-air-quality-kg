{
 "cells": [
  {
   "cell_type": "markdown",
   "id": "88fa4ef6-f600-416d-a9f9-4ba4c49ffbba",
   "metadata": {},
   "source": [
    "# Urban Air Quality KG: Explicit Q&A with Local RAG\n",
    "\n",
    "This notebook explicitly demonstrates how to answer natural-language questions using a local Retrieval-Augmented Generation (RAG) pipeline explicitly built upon Neo4j and local LLM models."
   ]
  },
  {
   "cell_type": "markdown",
   "id": "745e9240-542a-4293-a40d-b043025994ca",
   "metadata": {},
   "source": [
    "## 🔧 Explicit Environment Setup\n",
    "\n",
    "Ensure your explicit dependencies are installed:\n",
    "```bash\n",
    "!pip install -r ../requirements.txt"
   ]
  },
  {
   "cell_type": "code",
   "execution_count": 5,
   "id": "c776320d-f958-4c88-abc1-20b443a1acab",
   "metadata": {},
   "outputs": [],
   "source": [
    "import sys\n",
    "from pathlib import Path\n",
    "\n",
    "# Explicitly add src directory to Python path\n",
    "sys.path.append(str(Path(\"../src\").resolve()))\n",
    "\n",
    "# Explicit imports from existing local RAG module\n",
    "from neo4j_local_rag import setup_graph, setup_llm, setup_rag_pipeline, query_kg"
   ]
  },
  {
   "cell_type": "code",
   "execution_count": null,
   "id": "02198527-a42a-4fc3-91ae-2a9bb08fc0fd",
   "metadata": {},
   "outputs": [],
   "source": [
    "# Explicitly set up Neo4j graph (prompts securely for password)\n",
    "graph = setup_graph()\n",
    "\n",
    "# Explicitly specify your LLM model path here (adjust as needed)\n",
    "model_path = \"/Users/nxx20/Library/Application Support/nomic.ai/GPT4All/mistral-7b-instruct-v0.2.Q4_K_M.gguf\"\n",
    "\n",
    "# Explicitly set up local LLM\n",
    "llm = setup_llm(model_path)\n",
    "\n",
    "# Explicitly configure RAG pipeline\n",
    "qa_chain = setup_rag_pipeline(graph, llm)"
   ]
  },
  {
   "cell_type": "markdown",
   "id": "ee9d187c-52dc-40e8-b0e6-30ff33998e45",
   "metadata": {},
   "source": [
    "## ❓ Explicit Natural-Language Q&A Example\n",
    "\n",
    "Explicitly use your local RAG pipeline to answer urban air quality related questions."
   ]
  },
  {
   "cell_type": "code",
   "execution_count": 7,
   "id": "718b8bdb-201b-40fc-b7ab-b239b9eeb79d",
   "metadata": {},
   "outputs": [
    {
     "name": "stdout",
     "output_type": "stream",
     "text": [
      "\n",
      "================================================================================\n"
     ]
    },
    {
     "name": "stderr",
     "output_type": "stream",
     "text": [
      "/Users/nxx20/urban-air-quality-kg/urban-air-quality-kg/Untitled/src/neo4j_local_rag.py:56: LangChainDeprecationWarning: The method `Chain.__call__` was deprecated in langchain 0.1.0 and will be removed in 1.0. Use :meth:`~invoke` instead.\n",
      "  result = qa_chain({\"query\": question})\n",
      "llama_perf_context_print:        load time =    7594.76 ms\n",
      "llama_perf_context_print: prompt eval time =    7594.26 ms /   152 tokens (   49.96 ms per token,    20.02 tokens per second)\n",
      "llama_perf_context_print:        eval time =    1934.10 ms /    47 runs   (   41.15 ms per token,    24.30 tokens per second)\n",
      "llama_perf_context_print:       total time =    9540.54 ms /   199 tokens\n"
     ]
    },
    {
     "name": "stdout",
     "output_type": "stream",
     "text": [
      "\n",
      "🔍 Question explicitly asked: What pollutants are primarily emitted by vehicles?\n",
      "\n",
      "📖 Answer from local LLM:\n",
      "  The primary pollutants emitted by vehicles are carbon monoxide (CO), nitrogen oxides (NOx), and particulate matter (PM). These pollutants contribute significantly to air pollution, particularly in urban areas.\n",
      "\n",
      "================================================================================\n"
     ]
    },
    {
     "name": "stderr",
     "output_type": "stream",
     "text": [
      "Llama.generate: 48 prefix-match hit, remaining 96 prompt tokens to eval\n",
      "llama_perf_context_print:        load time =    7594.76 ms\n",
      "llama_perf_context_print: prompt eval time =    3942.92 ms /    96 tokens (   41.07 ms per token,    24.35 tokens per second)\n",
      "llama_perf_context_print:        eval time =    3958.19 ms /    96 runs   (   41.23 ms per token,    24.25 tokens per second)\n",
      "llama_perf_context_print:       total time =    7921.24 ms /   192 tokens\n"
     ]
    },
    {
     "name": "stdout",
     "output_type": "stream",
     "text": [
      "\n",
      "🔍 Question explicitly asked: How does wind speed affect urban air pollution?\n",
      "\n",
      "📖 Answer from local LLM:\n",
      "  Wind speed can significantly impact urban air pollution by influencing the dispersion and dilution of pollutants. Strong winds can help disperse pollutants, reducing local concentrations. However, if wind speeds are too high, they can also contribute to the resuspension of dust and other particulate matter, which can further exacerbate urban air pollution. Overall, wind speed is an important factor that can influence the levels and distribution of urban air pollution.\n",
      "\n",
      "================================================================================\n"
     ]
    },
    {
     "name": "stderr",
     "output_type": "stream",
     "text": [
      "Llama.generate: 48 prefix-match hit, remaining 108 prompt tokens to eval\n",
      "llama_perf_context_print:        load time =    7594.76 ms\n",
      "llama_perf_context_print: prompt eval time =    3809.21 ms /   108 tokens (   35.27 ms per token,    28.35 tokens per second)\n",
      "llama_perf_context_print:        eval time =    4769.35 ms /   115 runs   (   41.47 ms per token,    24.11 tokens per second)\n",
      "llama_perf_context_print:       total time =    8602.90 ms /   223 tokens\n"
     ]
    },
    {
     "name": "stdout",
     "output_type": "stream",
     "text": [
      "\n",
      "🔍 Question explicitly asked: Which technological measures reduce NOx emissions effectively?\n",
      "\n",
      "📖 Answer from local LLM:\n",
      "  Technological measures such as Selective Catalytic Reduction (SCR) and Lean NOx Traps (LNT) are effective in reducing NOx emissions. SCR systems use a catalyst to convert NOx into harmless nitrogen and water vapor. LNT systems, on the other hand, store excess NOx during lean-burn operation and release it during rich-burn operation when there is sufficient oxygen for complete combustion. Both SCR and LNT technologies have proven effective in reducing NOx emissions from vehicles and industrial processes.\n"
     ]
    }
   ],
   "source": [
    "questions = [\n",
    "    \"What pollutants primarily come from vehicles?\",\n",
    "    \"How does wind speed influence pollutant dispersion?\",\n",
    "    \"What mitigation measures effectively reduce NOx emissions?\"\n",
    "]\n",
    "\n",
    "for question in questions:\n",
    "    print(\"\\n\" + \"=\"*80)\n",
    "    query_kg(qa_chain, question)"
   ]
  },
  {
   "cell_type": "code",
   "execution_count": null,
   "id": "3171031b-b577-406f-b98c-31db6402cea7",
   "metadata": {},
   "outputs": [],
   "source": []
  }
 ],
 "metadata": {
  "kernelspec": {
   "display_name": "Python (.venv1)",
   "language": "python",
   "name": ".venv1"
  },
  "language_info": {
   "codemirror_mode": {
    "name": "ipython",
    "version": 3
   },
   "file_extension": ".py",
   "mimetype": "text/x-python",
   "name": "python",
   "nbconvert_exporter": "python",
   "pygments_lexer": "ipython3",
   "version": "3.9.6"
  }
 },
 "nbformat": 4,
 "nbformat_minor": 5
}
