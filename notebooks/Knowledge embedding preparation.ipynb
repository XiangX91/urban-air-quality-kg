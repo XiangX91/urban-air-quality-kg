{
 "cells": [
  {
   "cell_type": "markdown",
   "id": "faa9fd2e-b394-4e5d-a025-8207b5151e77",
   "metadata": {},
   "source": [
    "# Urban Air Quality Knowledge Graph: Embedding & Similarity Test\n",
    "\n",
    "This notebook explicitly demonstrates how to:\n",
    "\n",
    "- Generate semantic embeddings for nodes explicitly from a Neo4j knowledge graph.\n",
    "- Store embeddings explicitly back into Neo4j.\n",
    "- Perform semantic similarity searches explicitly using Neo4j embeddings."
   ]
  },
  {
   "cell_type": "markdown",
   "id": "20302103-e4bb-44c8-a2de-e367979312f0",
   "metadata": {},
   "source": [
    "🔧 Environment Setup\n",
    "Before running the notebook, explicitly install all required Python packages:\n",
    "\n",
    "!pip install -r ../requirements.txt"
   ]
  },
  {
   "cell_type": "code",
   "execution_count": 2,
   "id": "5b21e878-a426-48c3-9c55-6bea347a943b",
   "metadata": {},
   "outputs": [
    {
     "name": "stderr",
     "output_type": "stream",
     "text": [
      "/Users/nxx20/Library/CloudStorage/OneDrive-NewcastleUniversity/Python code/PDF2KG/.venv1/lib/python3.9/site-packages/urllib3/__init__.py:35: NotOpenSSLWarning: urllib3 v2 only supports OpenSSL 1.1.1+, currently the 'ssl' module is compiled with 'LibreSSL 2.8.3'. See: https://github.com/urllib3/urllib3/issues/3020\n",
      "  warnings.warn(\n",
      "/Users/nxx20/Library/CloudStorage/OneDrive-NewcastleUniversity/Python code/PDF2KG/.venv1/lib/python3.9/site-packages/tqdm/auto.py:21: TqdmWarning: IProgress not found. Please update jupyter and ipywidgets. See https://ipywidgets.readthedocs.io/en/stable/user_install.html\n",
      "  from .autonotebook import tqdm as notebook_tqdm\n"
     ]
    }
   ],
   "source": [
    "import sys\n",
    "from pathlib import Path\n",
    "\n",
    "# Explicitly add src to Python path\n",
    "sys.path.append(str(Path(\"../src\").resolve()))\n",
    "\n",
    "# Explicit imports from existing modules\n",
    "from neo4j_embedding_pipeline import generate_embeddings\n",
    "from neo4j_similarity_search import similarity_search\n",
    "\n",
    "# Explicitly run embedding generation and storage\n",
    "generate_embeddings()"
   ]
  },
  {
   "cell_type": "code",
   "execution_count": 4,
   "id": "7f4233a6-433b-441e-95d0-fe5c3499e291",
   "metadata": {},
   "outputs": [
    {
     "name": "stdout",
     "output_type": "stream",
     "text": [
      "🔍 Explicitly retrieved similar nodes:\n",
      "- Vehicle exhaust (Category: Uncategorized, Score: 0.856)\n",
      "- Cold start emissions for urban and rural drives for cars (Category: MobileSource, Score: 0.843)\n",
      "- Aircraft emissions (Category: MobileSource, Score: 0.830)\n",
      "- Evaporative emissions (fuel storage and handling) (Category: AreaSource, Score: 0.809)\n",
      "- Vehicle exhaust (incomplete combustion) (Category: Uncategorized, Score: 0.804)\n"
     ]
    }
   ],
   "source": [
    "# Explicit example similarity query\n",
    "query_text = \"vehicle emissions\"\n",
    "index_name = \"source_embeddings\"\n",
    "\n",
    "results = similarity_search(query_text, index_name, top_k=5)\n",
    "\n",
    "print(\"🔍 Explicitly retrieved similar nodes:\")\n",
    "for record in results:\n",
    "    print(f\"- {record['name']} (Category: {record['category']}, Score: {record['score']:.3f})\")"
   ]
  },
  {
   "cell_type": "markdown",
   "id": "c88d5c3c-519b-4ce1-9485-20fc4a5f589a",
   "metadata": {},
   "source": [
    "## 🔍 Explicit Semantic Similarity Tests\n",
    "\n",
    "Explicitly test embedding quality with varied semantic queries covering different node types:\n",
    "- Sources\n",
    "- Pollutants\n",
    "- Mitigation measures\n",
    "- Meteorological factors\n",
    "- Street canyon effects"
   ]
  },
  {
   "cell_type": "code",
   "execution_count": 6,
   "id": "d98244a4-8aa7-41c7-b99d-f2b206f7c5b2",
   "metadata": {},
   "outputs": [
    {
     "name": "stdout",
     "output_type": "stream",
     "text": [
      "\n",
      "================================================================================\n",
      "🔎 Explicit Query: 'vehicle emissions' (Index: 'source_embeddings')\n",
      "\n",
      "Explicitly retrieved similar nodes:\n",
      "- Vehicle exhaust (Category: Uncategorized, Similarity Score: 0.856)\n",
      "- Cold start emissions for urban and rural drives for cars (Category: MobileSource, Similarity Score: 0.843)\n",
      "- Aircraft emissions (Category: MobileSource, Similarity Score: 0.830)\n",
      "\n",
      "================================================================================\n",
      "🔎 Explicit Query: 'industrial pollution' (Index: 'source_embeddings')\n",
      "\n",
      "Explicitly retrieved similar nodes:\n",
      "- Metal smelters and steel mills (Category: StationarySource, Similarity Score: 0.773)\n",
      "- Chemical manufacturing plants (Category: StationarySource, Similarity Score: 0.761)\n",
      "- Mining (metal ore, coal) (Category: Uncategorized, Similarity Score: 0.756)\n",
      "\n",
      "================================================================================\n",
      "🔎 Explicit Query: 'traffic-related pollutants' (Index: 'pollutant_embeddings')\n",
      "\n",
      "Explicitly retrieved similar nodes:\n",
      "- Chlorofluorocarbons (CFCs) (Category: HazardousOrganicCompounds, Similarity Score: 0.805)\n",
      "- Volatile organic compounds (VOCs) (Category: GaseousPollutants, Similarity Score: 0.799)\n",
      "- Hydrochlorofluorocarbons (HCFCs) (Category: HazardousOrganicCompounds, Similarity Score: 0.787)\n",
      "\n",
      "================================================================================\n",
      "🔎 Explicit Query: 'domestic heating pollution' (Index: 'source_embeddings')\n",
      "\n",
      "Explicitly retrieved similar nodes:\n",
      "- Residential heating and cooking (Category: AreaSource, Similarity Score: 0.837)\n",
      "- Gas fires or central heating boilers (blocked flues) (Category: StationarySource, Similarity Score: 0.786)\n",
      "- Uncontrolled waste burning (PVC plastic) (Category: AreaSource, Similarity Score: 0.744)\n",
      "\n",
      "================================================================================\n",
      "🔎 Explicit Query: 'effective policies to reduce NOx' (Index: 'mitigation_embeddings')\n",
      "\n",
      "Explicitly retrieved similar nodes:\n",
      "- Stricter emission standards (Category: PolicyBasedMeasure, Similarity Score: 0.781)\n",
      "- Emission limits regulations (Category: PolicyBasedMeasure, Similarity Score: 0.770)\n",
      "- Emission standards (stringent) (Category: PolicyBasedMeasure, Similarity Score: 0.765)\n",
      "\n",
      "================================================================================\n",
      "🔎 Explicit Query: 'impact of wind speed on air quality' (Index: 'meteorological_embeddings')\n",
      "\n",
      "Explicitly retrieved similar nodes:\n",
      "- Wind speed (Category: None, Similarity Score: 0.795)\n",
      "- Wind direction (Category: None, Similarity Score: 0.746)\n",
      "- Atmospheric stability (Category: None, Similarity Score: 0.709)\n",
      "\n",
      "================================================================================\n",
      "🔎 Explicit Query: 'urban design affecting pollution dispersion' (Index: 'street_canyon_embeddings')\n",
      "\n",
      "Explicitly retrieved similar nodes:\n"
     ]
    }
   ],
   "source": [
    "# Define explicit test queries and corresponding indexes\n",
    "test_cases = [\n",
    "    {\"query\": \"vehicle emissions\", \"index\": \"source_embeddings\"},\n",
    "    {\"query\": \"industrial pollution\", \"index\": \"source_embeddings\"},\n",
    "    {\"query\": \"traffic-related pollutants\", \"index\": \"pollutant_embeddings\"},\n",
    "    {\"query\": \"domestic heating pollution\", \"index\": \"source_embeddings\"},\n",
    "    {\"query\": \"effective policies to reduce NOx\", \"index\": \"mitigation_embeddings\"},\n",
    "    {\"query\": \"impact of wind speed on air quality\", \"index\": \"meteorological_embeddings\"},\n",
    "    {\"query\": \"urban design affecting pollution dispersion\", \"index\": \"street_canyon_embeddings\"}\n",
    "]\n",
    "\n",
    "# Perform explicit similarity searches and print results\n",
    "for case in test_cases:\n",
    "    print(\"\\n\" + \"=\"*80)\n",
    "    print(f\"🔎 Explicit Query: '{case['query']}' (Index: '{case['index']}')\\n\")\n",
    "    results = similarity_search(case['query'], case['index'], top_k=3)\n",
    "\n",
    "    print(\"Explicitly retrieved similar nodes:\")\n",
    "    for record in results:\n",
    "        print(f\"- {record['name']} (Category: {record['category']}, Similarity Score: {record['score']:.3f})\")"
   ]
  },
  {
   "cell_type": "markdown",
   "id": "bbf7cd40-42c1-42bc-b6b4-0818bf85a76e",
   "metadata": {},
   "source": [
    "## ⚠️ Explicit Edge Case Testing\n",
    "\n",
    "Explicitly test how your embeddings handle ambiguous, unusual, or unrelated queries:"
   ]
  },
  {
   "cell_type": "code",
   "execution_count": 8,
   "id": "7403f82f-3e1f-4534-a50a-b9d4aaf292c1",
   "metadata": {},
   "outputs": [
    {
     "name": "stdout",
     "output_type": "stream",
     "text": [
      "\n",
      "================================================================================\n",
      "⚠️ Explicit Edge Case Query: 'banana' (Index: 'pollutant_embeddings')\n",
      "\n",
      "Explicitly retrieved similar nodes:\n",
      "- Benzene (Category: GaseousPollutants, Similarity Score: 0.606)\n",
      "- Benzo(a)pyrene (Category: Uncategorized, Similarity Score: 0.605)\n",
      "- Lead (Pb) (Category: TraceElements, Similarity Score: 0.595)\n",
      "\n",
      "================================================================================\n",
      "⚠️ Explicit Edge Case Query: 'emissions from unicorns' (Index: 'source_embeddings')\n",
      "\n",
      "Explicitly retrieved similar nodes:\n",
      "- Aircraft emissions (Category: MobileSource, Similarity Score: 0.777)\n",
      "- Biogenic emissions (vegetation) (Category: NaturalSource, Similarity Score: 0.761)\n",
      "- Vehicle exhaust (Category: Uncategorized, Similarity Score: 0.729)\n",
      "\n",
      "================================================================================\n",
      "⚠️ Explicit Edge Case Query: '' (Index: 'mitigation_embeddings')\n",
      "\n",
      "Explicitly retrieved similar nodes:\n",
      "- Public awareness campaigns (Category: PolicyBasedMeasure, Similarity Score: 0.576)\n",
      "- Banning leaded gasoline (Category: PolicyBasedMeasure, Similarity Score: 0.553)\n",
      "- Employment of Best Available Technologies (BATs) (Category: TechnologicalMeasure, Similarity Score: 0.550)\n",
      "\n",
      "================================================================================\n",
      "⚠️ Explicit Edge Case Query: 'temperature' (Index: 'meteorological_embeddings')\n",
      "\n",
      "Explicitly retrieved similar nodes:\n",
      "- Ambient temperature (Category: None, Similarity Score: 0.775)\n",
      "- Soil temperature (Category: None, Similarity Score: 0.759)\n",
      "- Temperature inversion frequency (Category: None, Similarity Score: 0.725)\n"
     ]
    }
   ],
   "source": [
    "# Explicit edge-case test queries\n",
    "edge_case_queries = [\n",
    "    {\"query\": \"banana\", \"index\": \"pollutant_embeddings\"},  # unrelated concept explicitly\n",
    "    {\"query\": \"emissions from unicorns\", \"index\": \"source_embeddings\"},  # non-existent explicitly\n",
    "    {\"query\": \"\", \"index\": \"mitigation_embeddings\"},  # empty string explicitly\n",
    "    {\"query\": \"temperature\", \"index\": \"meteorological_embeddings\"},  # vague explicitly\n",
    "]\n",
    "\n",
    "# Explicitly run edge-case tests\n",
    "for case in edge_case_queries:\n",
    "    print(\"\\n\" + \"=\"*80)\n",
    "    print(f\"⚠️ Explicit Edge Case Query: '{case['query']}' (Index: '{case['index']}')\\n\")\n",
    "    results = similarity_search(case['query'], case['index'], top_k=3)\n",
    "\n",
    "    if results:\n",
    "        print(\"Explicitly retrieved similar nodes:\")\n",
    "        for record in results:\n",
    "            print(f\"- {record['name']} (Category: {record['category']}, Similarity Score: {record['score']:.3f})\")\n",
    "    else:\n",
    "        print(\"⚠️ Explicitly no relevant nodes retrieved.\")"
   ]
  },
  {
   "cell_type": "code",
   "execution_count": null,
   "id": "9c469777-55e9-4e86-84e9-a1527c4d50dd",
   "metadata": {},
   "outputs": [],
   "source": []
  }
 ],
 "metadata": {
  "kernelspec": {
   "display_name": "Python (.venv1)",
   "language": "python",
   "name": ".venv1"
  },
  "language_info": {
   "codemirror_mode": {
    "name": "ipython",
    "version": 3
   },
   "file_extension": ".py",
   "mimetype": "text/x-python",
   "name": "python",
   "nbconvert_exporter": "python",
   "pygments_lexer": "ipython3",
   "version": "3.9.6"
  }
 },
 "nbformat": 4,
 "nbformat_minor": 5
}
