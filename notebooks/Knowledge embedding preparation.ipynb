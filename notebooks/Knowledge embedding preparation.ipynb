{
 "cells": [
  {
   "cell_type": "markdown",
   "id": "faa9fd2e-b394-4e5d-a025-8207b5151e77",
   "metadata": {},
   "source": [
    "# Urban Air Quality Knowledge Graph: Embedding & Similarity Test\n",
    "\n",
    "This notebook explicitly demonstrates how to:\n",
    "\n",
    "- Generate semantic embeddings for nodes explicitly from a Neo4j knowledge graph.\n",
    "- Store embeddings explicitly back into Neo4j.\n",
    "- Perform semantic similarity searches explicitly using Neo4j embeddings."
   ]
  },
  {
   "cell_type": "markdown",
   "id": "20302103-e4bb-44c8-a2de-e367979312f0",
   "metadata": {},
   "source": [
    "🔧 Environment Setup\n",
    "Before running the notebook, explicitly install all required Python packages:\n",
    "\n",
    "!pip install -r ../requirements.txt"
   ]
  },
  {
   "cell_type": "code",
   "execution_count": null,
   "id": "5b21e878-a426-48c3-9c55-6bea347a943b",
   "metadata": {},
   "outputs": [],
   "source": []
  }
 ],
 "metadata": {
  "kernelspec": {
   "display_name": "Python (.venv1)",
   "language": "python",
   "name": ".venv1"
  },
  "language_info": {
   "codemirror_mode": {
    "name": "ipython",
    "version": 3
   },
   "file_extension": ".py",
   "mimetype": "text/x-python",
   "name": "python",
   "nbconvert_exporter": "python",
   "pygments_lexer": "ipython3",
   "version": "3.9.6"
  }
 },
 "nbformat": 4,
 "nbformat_minor": 5
}
